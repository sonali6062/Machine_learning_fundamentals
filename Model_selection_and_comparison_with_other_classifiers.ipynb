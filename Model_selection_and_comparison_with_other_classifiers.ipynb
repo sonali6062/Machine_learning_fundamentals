{
  "nbformat": 4,
  "nbformat_minor": 0,
  "metadata": {
    "colab": {
      "provenance": [],
      "gpuType": "T4",
      "authorship_tag": "ABX9TyNYtys2+SRzdqudcYwLeRn+",
      "include_colab_link": true
    },
    "kernelspec": {
      "name": "python3",
      "display_name": "Python 3"
    },
    "language_info": {
      "name": "python"
    },
    "accelerator": "GPU"
  },
  "cells": [
    {
      "cell_type": "markdown",
      "metadata": {
        "id": "view-in-github",
        "colab_type": "text"
      },
      "source": [
        "<a href=\"https://colab.research.google.com/github/sonali6062/Machine_learning_fundamentals/blob/main/Model_selection_and_comparison_with_other_classifiers.ipynb\" target=\"_parent\"><img src=\"https://colab.research.google.com/assets/colab-badge.svg\" alt=\"Open In Colab\"/></a>"
      ]
    },
    {
      "cell_type": "code",
      "execution_count": 1,
      "metadata": {
        "id": "3oQoEYlYEaLX"
      },
      "outputs": [],
      "source": [
        "# Import necessary libraries for data manipulation, visualization, and machine learning\n",
        "import numpy as np # For numerical operations\n",
        "import pandas  as pd # For data manipulation and analysis\n",
        "import matplotlib.pyplot as plt # For creating static, interactive, and animated visualizations\n",
        "import seaborn as sns # For creating informative statistical graphics\n",
        "\n",
        "# Import machine learning models and tools from scikit-learn\n",
        "from sklearn.ensemble import RandomForestClassifier # Random Forest classification model\n",
        "from sklearn.model_selection import train_test_split # Function for splitting data into training and testing sets\n",
        "from sklearn.metrics import accuracy_score, precision_score, recall_score, f1_score, roc_auc_score # Functions for evaluating model performance\n",
        "from sklearn.neighbors import KNeighborsClassifier # K-Nearest Neighbors classification model\n",
        "from sklearn.metrics import confusion_matrix # Function to compute confusion matrix\n",
        "from sklearn.metrics import classification_report # Function to build a text report showing the main classification metrics\n",
        "from sklearn.preprocessing import StandardScaler # For standardizing features by removing the mean and scaling to unit variance\n",
        "from sklearn.linear_model import LogisticRegression # Logistic Regression classification model\n",
        "from sklearn.svm import SVC # Support Vector Classifier"
      ]
    },
    {
      "cell_type": "code",
      "source": [
        "# Load the breast cancer dataset from scikit-learn\n",
        "from sklearn.datasets import load_breast_cancer\n",
        "data = load_breast_cancer()\n",
        "\n",
        "# Print the loaded data (optional, for inspection)\n",
        "print(data)"
      ],
      "metadata": {
        "colab": {
          "base_uri": "https://localhost:8080/"
        },
        "id": "fc9a471VFvKE",
        "outputId": "8c4ab986-97bf-428e-a024-35f536b6c28c"
      },
      "execution_count": 2,
      "outputs": [
        {
          "output_type": "stream",
          "name": "stdout",
          "text": [
            "{'data': array([[1.799e+01, 1.038e+01, 1.228e+02, ..., 2.654e-01, 4.601e-01,\n",
            "        1.189e-01],\n",
            "       [2.057e+01, 1.777e+01, 1.329e+02, ..., 1.860e-01, 2.750e-01,\n",
            "        8.902e-02],\n",
            "       [1.969e+01, 2.125e+01, 1.300e+02, ..., 2.430e-01, 3.613e-01,\n",
            "        8.758e-02],\n",
            "       ...,\n",
            "       [1.660e+01, 2.808e+01, 1.083e+02, ..., 1.418e-01, 2.218e-01,\n",
            "        7.820e-02],\n",
            "       [2.060e+01, 2.933e+01, 1.401e+02, ..., 2.650e-01, 4.087e-01,\n",
            "        1.240e-01],\n",
            "       [7.760e+00, 2.454e+01, 4.792e+01, ..., 0.000e+00, 2.871e-01,\n",
            "        7.039e-02]]), 'target': array([0, 0, 0, 0, 0, 0, 0, 0, 0, 0, 0, 0, 0, 0, 0, 0, 0, 0, 0, 1, 1, 1,\n",
            "       0, 0, 0, 0, 0, 0, 0, 0, 0, 0, 0, 0, 0, 0, 0, 1, 0, 0, 0, 0, 0, 0,\n",
            "       0, 0, 1, 0, 1, 1, 1, 1, 1, 0, 0, 1, 0, 0, 1, 1, 1, 1, 0, 1, 0, 0,\n",
            "       1, 1, 1, 1, 0, 1, 0, 0, 1, 0, 1, 0, 0, 1, 1, 1, 0, 0, 1, 0, 0, 0,\n",
            "       1, 1, 1, 0, 1, 1, 0, 0, 1, 1, 1, 0, 0, 1, 1, 1, 1, 0, 1, 1, 0, 1,\n",
            "       1, 1, 1, 1, 1, 1, 1, 0, 0, 0, 1, 0, 0, 1, 1, 1, 0, 0, 1, 0, 1, 0,\n",
            "       0, 1, 0, 0, 1, 1, 0, 1, 1, 0, 1, 1, 1, 1, 0, 1, 1, 1, 1, 1, 1, 1,\n",
            "       1, 1, 0, 1, 1, 1, 1, 0, 0, 1, 0, 1, 1, 0, 0, 1, 1, 0, 0, 1, 1, 1,\n",
            "       1, 0, 1, 1, 0, 0, 0, 1, 0, 1, 0, 1, 1, 1, 0, 1, 1, 0, 0, 1, 0, 0,\n",
            "       0, 0, 1, 0, 0, 0, 1, 0, 1, 0, 1, 1, 0, 1, 0, 0, 0, 0, 1, 1, 0, 0,\n",
            "       1, 1, 1, 0, 1, 1, 1, 1, 1, 0, 0, 1, 1, 0, 1, 1, 0, 0, 1, 0, 1, 1,\n",
            "       1, 1, 0, 1, 1, 1, 1, 1, 0, 1, 0, 0, 0, 0, 0, 0, 0, 0, 0, 0, 0, 0,\n",
            "       0, 0, 1, 1, 1, 1, 1, 1, 0, 1, 0, 1, 1, 0, 1, 1, 0, 1, 0, 0, 1, 1,\n",
            "       1, 1, 1, 1, 1, 1, 1, 1, 1, 1, 1, 0, 1, 1, 0, 1, 0, 1, 1, 1, 1, 1,\n",
            "       1, 1, 1, 1, 1, 1, 1, 1, 1, 0, 1, 1, 1, 0, 1, 0, 1, 1, 1, 1, 0, 0,\n",
            "       0, 1, 1, 1, 1, 0, 1, 0, 1, 0, 1, 1, 1, 0, 1, 1, 1, 1, 1, 1, 1, 0,\n",
            "       0, 0, 1, 1, 1, 1, 1, 1, 1, 1, 1, 1, 1, 0, 0, 1, 0, 0, 0, 1, 0, 0,\n",
            "       1, 1, 1, 1, 1, 0, 1, 1, 1, 1, 1, 0, 1, 1, 1, 0, 1, 1, 0, 0, 1, 1,\n",
            "       1, 1, 1, 1, 0, 1, 1, 1, 1, 1, 1, 1, 0, 1, 1, 1, 1, 1, 0, 1, 1, 0,\n",
            "       1, 1, 1, 1, 1, 1, 1, 1, 1, 1, 1, 1, 0, 1, 0, 0, 1, 0, 1, 1, 1, 1,\n",
            "       1, 0, 1, 1, 0, 1, 0, 1, 1, 0, 1, 0, 1, 1, 1, 1, 1, 1, 1, 1, 0, 0,\n",
            "       1, 1, 1, 1, 1, 1, 0, 1, 1, 1, 1, 1, 1, 1, 1, 1, 1, 0, 1, 1, 1, 1,\n",
            "       1, 1, 1, 0, 1, 0, 1, 1, 0, 1, 1, 1, 1, 1, 0, 0, 1, 0, 1, 0, 1, 1,\n",
            "       1, 1, 1, 0, 1, 1, 0, 1, 0, 1, 0, 0, 1, 1, 1, 0, 1, 1, 1, 1, 1, 1,\n",
            "       1, 1, 1, 1, 1, 0, 1, 0, 0, 1, 1, 1, 1, 1, 1, 1, 1, 1, 1, 1, 1, 1,\n",
            "       1, 1, 1, 1, 1, 1, 1, 1, 1, 1, 1, 1, 0, 0, 0, 0, 0, 0, 1]), 'frame': None, 'target_names': array(['malignant', 'benign'], dtype='<U9'), 'DESCR': '.. _breast_cancer_dataset:\\n\\nBreast cancer wisconsin (diagnostic) dataset\\n--------------------------------------------\\n\\n**Data Set Characteristics:**\\n\\n:Number of Instances: 569\\n\\n:Number of Attributes: 30 numeric, predictive attributes and the class\\n\\n:Attribute Information:\\n    - radius (mean of distances from center to points on the perimeter)\\n    - texture (standard deviation of gray-scale values)\\n    - perimeter\\n    - area\\n    - smoothness (local variation in radius lengths)\\n    - compactness (perimeter^2 / area - 1.0)\\n    - concavity (severity of concave portions of the contour)\\n    - concave points (number of concave portions of the contour)\\n    - symmetry\\n    - fractal dimension (\"coastline approximation\" - 1)\\n\\n    The mean, standard error, and \"worst\" or largest (mean of the three\\n    worst/largest values) of these features were computed for each image,\\n    resulting in 30 features.  For instance, field 0 is Mean Radius, field\\n    10 is Radius SE, field 20 is Worst Radius.\\n\\n    - class:\\n            - WDBC-Malignant\\n            - WDBC-Benign\\n\\n:Summary Statistics:\\n\\n===================================== ====== ======\\n                                        Min    Max\\n===================================== ====== ======\\nradius (mean):                        6.981  28.11\\ntexture (mean):                       9.71   39.28\\nperimeter (mean):                     43.79  188.5\\narea (mean):                          143.5  2501.0\\nsmoothness (mean):                    0.053  0.163\\ncompactness (mean):                   0.019  0.345\\nconcavity (mean):                     0.0    0.427\\nconcave points (mean):                0.0    0.201\\nsymmetry (mean):                      0.106  0.304\\nfractal dimension (mean):             0.05   0.097\\nradius (standard error):              0.112  2.873\\ntexture (standard error):             0.36   4.885\\nperimeter (standard error):           0.757  21.98\\narea (standard error):                6.802  542.2\\nsmoothness (standard error):          0.002  0.031\\ncompactness (standard error):         0.002  0.135\\nconcavity (standard error):           0.0    0.396\\nconcave points (standard error):      0.0    0.053\\nsymmetry (standard error):            0.008  0.079\\nfractal dimension (standard error):   0.001  0.03\\nradius (worst):                       7.93   36.04\\ntexture (worst):                      12.02  49.54\\nperimeter (worst):                    50.41  251.2\\narea (worst):                         185.2  4254.0\\nsmoothness (worst):                   0.071  0.223\\ncompactness (worst):                  0.027  1.058\\nconcavity (worst):                    0.0    1.252\\nconcave points (worst):               0.0    0.291\\nsymmetry (worst):                     0.156  0.664\\nfractal dimension (worst):            0.055  0.208\\n===================================== ====== ======\\n\\n:Missing Attribute Values: None\\n\\n:Class Distribution: 212 - Malignant, 357 - Benign\\n\\n:Creator:  Dr. William H. Wolberg, W. Nick Street, Olvi L. Mangasarian\\n\\n:Donor: Nick Street\\n\\n:Date: November, 1995\\n\\nThis is a copy of UCI ML Breast Cancer Wisconsin (Diagnostic) datasets.\\nhttps://goo.gl/U2Uwz2\\n\\nFeatures are computed from a digitized image of a fine needle\\naspirate (FNA) of a breast mass.  They describe\\ncharacteristics of the cell nuclei present in the image.\\n\\nSeparating plane described above was obtained using\\nMultisurface Method-Tree (MSM-T) [K. P. Bennett, \"Decision Tree\\nConstruction Via Linear Programming.\" Proceedings of the 4th\\nMidwest Artificial Intelligence and Cognitive Science Society,\\npp. 97-101, 1992], a classification method which uses linear\\nprogramming to construct a decision tree.  Relevant features\\nwere selected using an exhaustive search in the space of 1-4\\nfeatures and 1-3 separating planes.\\n\\nThe actual linear program used to obtain the separating plane\\nin the 3-dimensional space is that described in:\\n[K. P. Bennett and O. L. Mangasarian: \"Robust Linear\\nProgramming Discrimination of Two Linearly Inseparable Sets\",\\nOptimization Methods and Software 1, 1992, 23-34].\\n\\nThis database is also available through the UW CS ftp server:\\n\\nftp ftp.cs.wisc.edu\\ncd math-prog/cpo-dataset/machine-learn/WDBC/\\n\\n.. dropdown:: References\\n\\n  - W.N. Street, W.H. Wolberg and O.L. Mangasarian. Nuclear feature extraction\\n    for breast tumor diagnosis. IS&T/SPIE 1993 International Symposium on\\n    Electronic Imaging: Science and Technology, volume 1905, pages 861-870,\\n    San Jose, CA, 1993.\\n  - O.L. Mangasarian, W.N. Street and W.H. Wolberg. Breast cancer diagnosis and\\n    prognosis via linear programming. Operations Research, 43(4), pages 570-577,\\n    July-August 1995.\\n  - W.H. Wolberg, W.N. Street, and O.L. Mangasarian. Machine learning techniques\\n    to diagnose breast cancer from fine-needle aspirates. Cancer Letters 77 (1994)\\n    163-171.\\n', 'feature_names': array(['mean radius', 'mean texture', 'mean perimeter', 'mean area',\n",
            "       'mean smoothness', 'mean compactness', 'mean concavity',\n",
            "       'mean concave points', 'mean symmetry', 'mean fractal dimension',\n",
            "       'radius error', 'texture error', 'perimeter error', 'area error',\n",
            "       'smoothness error', 'compactness error', 'concavity error',\n",
            "       'concave points error', 'symmetry error',\n",
            "       'fractal dimension error', 'worst radius', 'worst texture',\n",
            "       'worst perimeter', 'worst area', 'worst smoothness',\n",
            "       'worst compactness', 'worst concavity', 'worst concave points',\n",
            "       'worst symmetry', 'worst fractal dimension'], dtype='<U23'), 'filename': 'breast_cancer.csv', 'data_module': 'sklearn.datasets.data'}\n"
          ]
        }
      ]
    },
    {
      "cell_type": "markdown",
      "source": [
        "Data Split: Splitting of a given daat into imput feature and target variable."
      ],
      "metadata": {
        "id": "XevRWwnYGdAd"
      }
    },
    {
      "cell_type": "code",
      "source": [
        "# Separate features (x) and target variable (y)\n",
        "x=data.data # Features\n",
        "y=data.target # Target variable (diagnosis)\n",
        "print(x)\n",
        "print(y)"
      ],
      "metadata": {
        "colab": {
          "base_uri": "https://localhost:8080/"
        },
        "id": "_V9AzqIaGDAs",
        "outputId": "1f4c0b3a-02c4-422d-e789-802a28e81b29"
      },
      "execution_count": 3,
      "outputs": [
        {
          "output_type": "stream",
          "name": "stdout",
          "text": [
            "[[1.799e+01 1.038e+01 1.228e+02 ... 2.654e-01 4.601e-01 1.189e-01]\n",
            " [2.057e+01 1.777e+01 1.329e+02 ... 1.860e-01 2.750e-01 8.902e-02]\n",
            " [1.969e+01 2.125e+01 1.300e+02 ... 2.430e-01 3.613e-01 8.758e-02]\n",
            " ...\n",
            " [1.660e+01 2.808e+01 1.083e+02 ... 1.418e-01 2.218e-01 7.820e-02]\n",
            " [2.060e+01 2.933e+01 1.401e+02 ... 2.650e-01 4.087e-01 1.240e-01]\n",
            " [7.760e+00 2.454e+01 4.792e+01 ... 0.000e+00 2.871e-01 7.039e-02]]\n",
            "[0 0 0 0 0 0 0 0 0 0 0 0 0 0 0 0 0 0 0 1 1 1 0 0 0 0 0 0 0 0 0 0 0 0 0 0 0\n",
            " 1 0 0 0 0 0 0 0 0 1 0 1 1 1 1 1 0 0 1 0 0 1 1 1 1 0 1 0 0 1 1 1 1 0 1 0 0\n",
            " 1 0 1 0 0 1 1 1 0 0 1 0 0 0 1 1 1 0 1 1 0 0 1 1 1 0 0 1 1 1 1 0 1 1 0 1 1\n",
            " 1 1 1 1 1 1 0 0 0 1 0 0 1 1 1 0 0 1 0 1 0 0 1 0 0 1 1 0 1 1 0 1 1 1 1 0 1\n",
            " 1 1 1 1 1 1 1 1 0 1 1 1 1 0 0 1 0 1 1 0 0 1 1 0 0 1 1 1 1 0 1 1 0 0 0 1 0\n",
            " 1 0 1 1 1 0 1 1 0 0 1 0 0 0 0 1 0 0 0 1 0 1 0 1 1 0 1 0 0 0 0 1 1 0 0 1 1\n",
            " 1 0 1 1 1 1 1 0 0 1 1 0 1 1 0 0 1 0 1 1 1 1 0 1 1 1 1 1 0 1 0 0 0 0 0 0 0\n",
            " 0 0 0 0 0 0 0 1 1 1 1 1 1 0 1 0 1 1 0 1 1 0 1 0 0 1 1 1 1 1 1 1 1 1 1 1 1\n",
            " 1 0 1 1 0 1 0 1 1 1 1 1 1 1 1 1 1 1 1 1 1 0 1 1 1 0 1 0 1 1 1 1 0 0 0 1 1\n",
            " 1 1 0 1 0 1 0 1 1 1 0 1 1 1 1 1 1 1 0 0 0 1 1 1 1 1 1 1 1 1 1 1 0 0 1 0 0\n",
            " 0 1 0 0 1 1 1 1 1 0 1 1 1 1 1 0 1 1 1 0 1 1 0 0 1 1 1 1 1 1 0 1 1 1 1 1 1\n",
            " 1 0 1 1 1 1 1 0 1 1 0 1 1 1 1 1 1 1 1 1 1 1 1 0 1 0 0 1 0 1 1 1 1 1 0 1 1\n",
            " 0 1 0 1 1 0 1 0 1 1 1 1 1 1 1 1 0 0 1 1 1 1 1 1 0 1 1 1 1 1 1 1 1 1 1 0 1\n",
            " 1 1 1 1 1 1 0 1 0 1 1 0 1 1 1 1 1 0 0 1 0 1 0 1 1 1 1 1 0 1 1 0 1 0 1 0 0\n",
            " 1 1 1 0 1 1 1 1 1 1 1 1 1 1 1 0 1 0 0 1 1 1 1 1 1 1 1 1 1 1 1 1 1 1 1 1 1\n",
            " 1 1 1 1 1 1 1 0 0 0 0 0 0 1]\n"
          ]
        }
      ]
    },
    {
      "cell_type": "markdown",
      "source": [
        "Data Normalization:StandardScaler(stsndard normal form)into 0's and 1's"
      ],
      "metadata": {
        "id": "sNvDrrNZGynQ"
      }
    },
    {
      "cell_type": "markdown",
      "source": [
        "Data Splitting into train set and test set."
      ],
      "metadata": {
        "id": "c6Gr20l1K42I"
      }
    },
    {
      "cell_type": "code",
      "source": [
        "# Split the data into training and testing sets\n",
        "# test_size=0.2 means 20% of the data will be used for testing, and 80% for training\n",
        "# random_state=0 ensures reproducibility of the split\n",
        "x_train,x_test,y_train,y_test=train_test_split(x,y,test_size=0.2,random_state=0)\n",
        "\n",
        "# Data normalization using StandardScaler\n",
        "# StandardScaler standardizes features by removing the mean and scaling to unit variance\n",
        "sc=StandardScaler()\n",
        "x=sc.fit_transform(x) # Fit and transform the data\n",
        "print(x)"
      ],
      "metadata": {
        "colab": {
          "base_uri": "https://localhost:8080/"
        },
        "id": "VQ9piJJIGwft",
        "outputId": "c16ee18c-16c7-4272-e813-3c8038c5cb11"
      },
      "execution_count": 4,
      "outputs": [
        {
          "output_type": "stream",
          "name": "stdout",
          "text": [
            "[[ 1.09706398 -2.07333501  1.26993369 ...  2.29607613  2.75062224\n",
            "   1.93701461]\n",
            " [ 1.82982061 -0.35363241  1.68595471 ...  1.0870843  -0.24388967\n",
            "   0.28118999]\n",
            " [ 1.57988811  0.45618695  1.56650313 ...  1.95500035  1.152255\n",
            "   0.20139121]\n",
            " ...\n",
            " [ 0.70228425  2.0455738   0.67267578 ...  0.41406869 -1.10454895\n",
            "  -0.31840916]\n",
            " [ 1.83834103  2.33645719  1.98252415 ...  2.28998549  1.91908301\n",
            "   2.21963528]\n",
            " [-1.80840125  1.22179204 -1.81438851 ... -1.74506282 -0.04813821\n",
            "  -0.75120669]]\n"
          ]
        }
      ]
    },
    {
      "cell_type": "markdown",
      "source": [
        "Data Modelling"
      ],
      "metadata": {
        "id": "AZHOcVxSLSvx"
      }
    },
    {
      "cell_type": "code",
      "source": [
        "# Define a dictionary of models to train\n",
        "models={\n",
        "    'Random Forest':RandomForestClassifier(),\n",
        "    'KNN':KNeighborsClassifier(),\n",
        "    'Logistic Regression':LogisticRegression(),\n",
        "    'SVM':SVC(probability=True) # SVM with probability estimates enabled\n",
        "}\n",
        "\n",
        "# Train each model\n",
        "for name,model in models.items():\n",
        "  model.fit(x_train,y_train)\n",
        "  print(f'{name} trained model')"
      ],
      "metadata": {
        "colab": {
          "base_uri": "https://localhost:8080/"
        },
        "id": "fZKwNWvXLVI6",
        "outputId": "67e491fd-0eee-40f6-f007-d4a7427903f7"
      },
      "execution_count": 5,
      "outputs": [
        {
          "output_type": "stream",
          "name": "stdout",
          "text": [
            "Random Forest trained model\n",
            "KNN trained model\n",
            "Logistic Regression trained model\n",
            "SVM trained model\n"
          ]
        },
        {
          "output_type": "stream",
          "name": "stderr",
          "text": [
            "/usr/local/lib/python3.11/dist-packages/sklearn/linear_model/_logistic.py:465: ConvergenceWarning: lbfgs failed to converge (status=1):\n",
            "STOP: TOTAL NO. OF ITERATIONS REACHED LIMIT.\n",
            "\n",
            "Increase the number of iterations (max_iter) or scale the data as shown in:\n",
            "    https://scikit-learn.org/stable/modules/preprocessing.html\n",
            "Please also refer to the documentation for alternative solver options:\n",
            "    https://scikit-learn.org/stable/modules/linear_model.html#logistic-regression\n",
            "  n_iter_i = _check_optimize_result(\n"
          ]
        }
      ]
    },
    {
      "cell_type": "code",
      "source": [
        "results={}\n",
        "for name,model in models.items():\n",
        "  y_pred=model.predict(x_test)\n",
        "  y_prob=model.predict_proba(x_test)[:,1] if hasattr(model,'predict_proba') else None\n",
        "  results[name]={\n",
        "      'accuracy':accuracy_score(y_test,y_pred),\n",
        "      'Precision':precision_score(y_test,y_pred),\n",
        "      'Recall':recall_score(y_test,y_pred),\n",
        "      'F1 Score':f1_score(y_test,y_pred),\n",
        "      'Confusion Matrix':confusion_matrix(y_test,y_pred),\n",
        "      'Classification Report':classification_report(y_test,y_pred),\n",
        "      'ROC AUC':  roc_auc_score(y_test,y_prob) if y_prob is not None else np.nan\n",
        "  }\n",
        "\n",
        "\n",
        "#Display Results\n",
        "result_df=pd.DataFrame(results).T\n",
        "print(result_df)"
      ],
      "metadata": {
        "colab": {
          "base_uri": "https://localhost:8080/"
        },
        "id": "MEbAvHdPMmJh",
        "outputId": "88b22741-4d2c-45a9-ad6a-3eacf9a4567a"
      },
      "execution_count": 6,
      "outputs": [
        {
          "output_type": "stream",
          "name": "stdout",
          "text": [
            "                     accuracy Precision    Recall  F1 Score  \\\n",
            "Random Forest         0.95614  0.969697  0.955224  0.962406   \n",
            "KNN                  0.938596  0.954545  0.940299  0.947368   \n",
            "Logistic Regression  0.947368  0.969231  0.940299  0.954545   \n",
            "SVM                  0.929825   0.90411  0.985075  0.942857   \n",
            "\n",
            "                       Confusion Matrix  \\\n",
            "Random Forest        [[45, 2], [3, 64]]   \n",
            "KNN                  [[44, 3], [4, 63]]   \n",
            "Logistic Regression  [[45, 2], [4, 63]]   \n",
            "SVM                  [[40, 7], [1, 66]]   \n",
            "\n",
            "                                                 Classification Report  \\\n",
            "Random Forest                      precision    recall  f1-score   ...   \n",
            "KNN                                precision    recall  f1-score   ...   \n",
            "Logistic Regression                precision    recall  f1-score   ...   \n",
            "SVM                                precision    recall  f1-score   ...   \n",
            "\n",
            "                      ROC AUC  \n",
            "Random Forest        0.997142  \n",
            "KNN                  0.957923  \n",
            "Logistic Regression  0.993649  \n",
            "SVM                   0.98444  \n"
          ]
        }
      ]
    },
    {
      "cell_type": "code",
      "source": [
        "# Dictionary to store evaluation results for each model\n",
        "results={}\n",
        "\n",
        "# Evaluate each trained model\n",
        "for name,model in models.items():\n",
        "  # Make predictions on the test set\n",
        "  y_pred=model.predict(x_test)\n",
        "\n",
        "  # Get probability estimates for ROC AUC (if supported by the model)\n",
        "  y_prob=model.predict_proba(x_test)[:,1] if hasattr(model,'predict_proba') else None\n",
        "\n",
        "  # Calculate evaluation metrics and store them in the results dictionary\n",
        "  results[name]={\n",
        "      'accuracy':accuracy_score(y_test,y_pred),\n",
        "      'Precision':precision_score(y_test,y_pred),\n",
        "      'Recall':recall_score(y_test,y_pred),\n",
        "      'F1 Score':f1_score(y_test,y_pred),\n",
        "      # 'Confusion Matrix':confusion_matrix(y_test,y_pred), # Confusion matrix (optional)\n",
        "      # 'Classification Report':classification_report(y_test,y_pred), # Classification report (optional)\n",
        "      'ROC AUC':  roc_auc_score(y_test,y_prob) if y_prob is not None else np.nan # ROC AUC score\n",
        "  }\n",
        "\n",
        "\n",
        "# Convert the results dictionary to a pandas DataFrame for easy display\n",
        "result_df=pd.DataFrame(results).T\n",
        "\n",
        "# Display the model comparison table\n",
        "print('Model Comparison: ')\n",
        "print(result_df)"
      ],
      "metadata": {
        "colab": {
          "base_uri": "https://localhost:8080/"
        },
        "id": "6AxPljAPPnAz",
        "outputId": "0b2fee07-e636-42f3-bb29-c2171f85e0c6"
      },
      "execution_count": 7,
      "outputs": [
        {
          "output_type": "stream",
          "name": "stdout",
          "text": [
            "Model Comparison: \n",
            "                     accuracy  Precision    Recall  F1 Score   ROC AUC\n",
            "Random Forest        0.956140   0.969697  0.955224  0.962406  0.997142\n",
            "KNN                  0.938596   0.954545  0.940299  0.947368  0.957923\n",
            "Logistic Regression  0.947368   0.969231  0.940299  0.954545  0.993649\n",
            "SVM                  0.929825   0.904110  0.985075  0.942857  0.984440\n"
          ]
        }
      ]
    },
    {
      "cell_type": "markdown",
      "metadata": {
        "id": "2c7ea12c"
      },
      "source": [
        "## Summary and Conclusion\n",
        "\n",
        "This notebook demonstrates a typical machine learning workflow for classifying breast cancer as malignant or benign using the scikit-learn breast cancer dataset.\n",
        "\n",
        "The steps involved were:\n",
        "\n",
        "1.  **Loading the data**: The breast cancer dataset was loaded from `sklearn.datasets`.\n",
        "2.  **Data Splitting**: The data was split into features (x) and the target variable (y).\n",
        "3.  **Data Normalization**: The features were standardized using `StandardScaler`.\n",
        "4.  **Data Splitting**: The data was split into training and testing sets.\n",
        "5.  **Model Training**: Four different classification models were trained on the training data: Random Forest, K-Nearest Neighbors (KNN), Logistic Regression, and Support Vector Machine (SVM).\n",
        "6.  **Model Evaluation**: The trained models were evaluated on the testing data using several metrics: accuracy, precision, recall, F1 score, and ROC AUC.\n",
        "\n",
        "**Conclusion:**\n",
        "\n",
        "Based on the evaluation metrics, the **Random Forest** model appears to be the best performing model among the ones tested, achieving the highest accuracy, precision, F1 score, and ROC AUC. The SVM model has the highest recall, which means it is best at identifying all positive cases (malignant tumors), but has lower precision. The Logistic Regression model also performed well, but a convergence warning was observed during training, suggesting the need to increase the maximum number of iterations for more reliable results. The KNN model had the lowest performance across most metrics.\n",
        "\n",
        "Further steps could include:\n",
        "\n",
        "*   Hyperparameter tuning for the Random Forest and Logistic Regression models to potentially improve their performance.\n",
        "*   Investigating the false positives and false negatives from the confusion matrices to understand where the models are making errors.\n",
        "*   Visualizing the results, such as plotting ROC curves, for a more intuitive comparison of model performance."
      ]
    }
  ]
}